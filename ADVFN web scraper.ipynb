{
 "cells": [
  {
   "cell_type": "code",
   "execution_count": null,
   "metadata": {
    "scrolled": true
   },
   "outputs": [],
   "source": [
    "from selenium import webdriver\n",
    "from selenium.webdriver.common.keys import Keys\n",
    "from time import sleep\n",
    "import requests\n",
    "import pandas as pd\n",
    "import numpy as np\n",
    "from bs4 import BeautifulSoup"
   ]
  },
  {
   "cell_type": "code",
   "execution_count": null,
   "metadata": {},
   "outputs": [],
   "source": [
    "#empty lists created for company name and ticker/symbol\n",
    "company_name=[]\n",
    "company_ticker=[]"
   ]
  },
  {
   "cell_type": "code",
   "execution_count": null,
   "metadata": {},
   "outputs": [],
   "source": [
    "URL='https://www.advfn.com/nyse/newyorkstockexchange.asp?companies=A'\n",
    "page = requests.get(URL)\n",
    "soup = BeautifulSoup(page.text,'html.parser') #parse the previous text\n",
    "odd_rows=soup.find_all('tr', attrs={ 'class': 'ts0'})\n",
    "even_rows=soup.find_all('tr', attrs={ 'class': 'ts1'})"
   ]
  },
  {
   "cell_type": "code",
   "execution_count": null,
   "metadata": {},
   "outputs": [],
   "source": [
    "URL"
   ]
  },
  {
   "cell_type": "code",
   "execution_count": null,
   "metadata": {},
   "outputs": [],
   "source": [
    "page"
   ]
  },
  {
   "cell_type": "code",
   "execution_count": null,
   "metadata": {
    "scrolled": true
   },
   "outputs": [],
   "source": [
    "page.text"
   ]
  },
  {
   "cell_type": "code",
   "execution_count": null,
   "metadata": {},
   "outputs": [],
   "source": [
    "soup #interested in tr class ts0 and ts 1"
   ]
  },
  {
   "cell_type": "code",
   "execution_count": null,
   "metadata": {
    "scrolled": true
   },
   "outputs": [],
   "source": [
    "odd_rows"
   ]
  },
  {
   "cell_type": "code",
   "execution_count": null,
   "metadata": {},
   "outputs": [],
   "source": [
    "soup"
   ]
  },
  {
   "cell_type": "code",
   "execution_count": null,
   "metadata": {},
   "outputs": [],
   "source": [
    "for i in odd_rows:\n",
    "    row =i.find_all('td')\n",
    "    print(row[0])#gives me td tags company name\n",
    "    print(row[1])#gives me td tags with company ticker"
   ]
  },
  {
   "cell_type": "code",
   "execution_count": null,
   "metadata": {},
   "outputs": [],
   "source": [
    "for i in odd_rows:\n",
    "    row= i.find_all('td')\n",
    "    company_name.append(row[0].text.strip()) #company name\n",
    "    company_ticker.append(row[1].text.strip()) #company ticker"
   ]
  },
  {
   "cell_type": "code",
   "execution_count": null,
   "metadata": {},
   "outputs": [],
   "source": [
    "company_name"
   ]
  },
  {
   "cell_type": "code",
   "execution_count": null,
   "metadata": {},
   "outputs": [],
   "source": [
    "for i in even_rows:\n",
    "    row= i.find_all('td')\n",
    "    company_name.append(row[0].text.strip()) #company name\n",
    "    company_ticker.append(row[1].text.strip()) #company ticker"
   ]
  },
  {
   "cell_type": "code",
   "execution_count": null,
   "metadata": {},
   "outputs": [],
   "source": [
    "company_ticker"
   ]
  },
  {
   "cell_type": "code",
   "execution_count": null,
   "metadata": {},
   "outputs": [],
   "source": [
    "#create fucntion to scrape ALL data\n",
    "def scrape_stock_symbols(Letter):\n",
    "    Letter=Letter.upper()\n",
    "    URL='https://www.advfn.com/nyse/newyorkstockexchange.asp?companies='+Letter #append letterfor any ticker\n",
    "    page = requests.get(URL)\n",
    "    soup = BeautifulSoup(page.text,'html.parser')\n",
    "    odd_rows=soup.find_all('tr', attrs={ 'class': 'ts0'})\n",
    "    even_rows=soup.find_all('tr', attrs={ 'class': 'ts1'})\n",
    "    \n",
    "    for i in odd_rows:\n",
    "        row= i.find_all('td')\n",
    "        company_name.append(row[0].text.strip()) #company name\n",
    "        company_ticker.append(row[1].text.strip()) #company ticker\n",
    "        \n",
    "    for i in even_rows:\n",
    "        row= i.find_all('td')\n",
    "        company_name.append(row[0].text.strip()) #company name\n",
    "        company_ticker.append(row[1].text.strip()) #company ticker\n",
    "        \n",
    "    return (company_name, company_ticker)"
   ]
  },
  {
   "cell_type": "code",
   "execution_count": null,
   "metadata": {},
   "outputs": [],
   "source": [
    "(temp_name, temp_ticker)= scrape_stock_symbols('b')\n",
    "temp_name[10]"
   ]
  },
  {
   "cell_type": "code",
   "execution_count": null,
   "metadata": {},
   "outputs": [],
   "source": [
    "#LIST OF EVERY LETTER IN ALPHABET\n",
    "import string\n",
    "string.ascii_uppercase #string constant used to uppercase letters of the alphabet"
   ]
  },
  {
   "cell_type": "code",
   "execution_count": null,
   "metadata": {},
   "outputs": [],
   "source": [
    "for char in string.ascii_uppercase:\n",
    "    (temp_name,temp_ticker) = scrape_stock_symbols(char)"
   ]
  },
  {
   "cell_type": "code",
   "execution_count": null,
   "metadata": {},
   "outputs": [],
   "source": [
    "temp_name #takes baout 5 min to run"
   ]
  },
  {
   "cell_type": "code",
   "execution_count": null,
   "metadata": {},
   "outputs": [],
   "source": [
    "#dataframe created\n",
    "data=pd.DataFrame(columns=['company_name', 'company_ticker'])\n",
    "data['company_name'] = temp_name\n",
    "data['company_ticker']= temp_ticker\n",
    "data[1:10]"
   ]
  },
  {
   "cell_type": "code",
   "execution_count": null,
   "metadata": {},
   "outputs": [],
   "source": []
  },
  {
   "cell_type": "code",
   "execution_count": null,
   "metadata": {},
   "outputs": [],
   "source": [
    "\n",
    "\n"
   ]
  },
  {
   "cell_type": "code",
   "execution_count": null,
   "metadata": {},
   "outputs": [],
   "source": []
  }
 ],
 "metadata": {
  "kernelspec": {
   "display_name": "Python 3",
   "language": "python",
   "name": "python3"
  },
  "language_info": {
   "codemirror_mode": {
    "name": "ipython",
    "version": 3
   },
   "file_extension": ".py",
   "mimetype": "text/x-python",
   "name": "python",
   "nbconvert_exporter": "python",
   "pygments_lexer": "ipython3",
   "version": "3.8.5"
  }
 },
 "nbformat": 4,
 "nbformat_minor": 4
}
